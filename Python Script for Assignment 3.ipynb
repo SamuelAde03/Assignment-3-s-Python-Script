{
 "cells": [
  {
   "cell_type": "markdown",
   "id": "34491149",
   "metadata": {},
   "source": [
    "# MA3K7 Assignment 3 \n",
    "\n",
    "**Student Number: 2110308**"
   ]
  },
  {
   "cell_type": "code",
   "execution_count": 9,
   "id": "70ebad35",
   "metadata": {},
   "outputs": [],
   "source": [
    "import numpy as np\n",
    "import random\n",
    "import seaborn as sns\n",
    "import matplotlib.pyplot as plt\n",
    "import scipy.stats as scpy\n",
    "import statsmodels.api as sm\n",
    "from collections import Counter"
   ]
  },
  {
   "cell_type": "markdown",
   "id": "044a9e71",
   "metadata": {},
   "source": [
    "The code below runs 1000 simulations of the problem and returns the top 10 highest-occurring final numbers."
   ]
  },
  {
   "cell_type": "code",
   "execution_count": 2,
   "id": "3965bab6",
   "metadata": {
    "collapsed": true
   },
   "outputs": [
    {
     "name": "stdout",
     "output_type": "stream",
     "text": [
      "Top 10 most common final numbers and their counts:\n",
      "Number: 278, Count: 8\n",
      "Number: 114, Count: 8\n",
      "Number: 22, Count: 8\n",
      "Number: 18, Count: 8\n",
      "Number: 2, Count: 8\n",
      "Number: 154, Count: 7\n",
      "Number: 140, Count: 7\n",
      "Number: 42, Count: 7\n",
      "Number: 124, Count: 7\n",
      "Number: 364, Count: 7\n"
     ]
    }
   ],
   "source": [
    "def simulate_paper_draws(total_pieces=2024, simulations=1000):\n",
    "    final_numbers = []  # List to store the final number of each simulation\n",
    "    \n",
    "    for _ in range(simulations):\n",
    "        # Initialise the hat with numbers from 1 to 2024\n",
    "        hat = list(range(1, total_pieces + 1))\n",
    "        \n",
    "        # Repeat the process until only one piece remains\n",
    "        while len(hat) > 1:\n",
    "            # Randomly select two pieces\n",
    "            draw = random.sample(hat, 2)\n",
    "            # Calculate the difference and remove the drawn pieces\n",
    "            hat.remove(draw[0])\n",
    "            hat.remove(draw[1])\n",
    "            # Add the difference back to the hat\n",
    "            hat.append(abs(draw[0] - draw[1]))\n",
    "        \n",
    "        # Add the final number to the list\n",
    "        final_numbers.append(hat[0])\n",
    "    \n",
    "    return final_numbers\n",
    "\n",
    "# Simulate the problem 1000 times\n",
    "final_numbers = simulate_paper_draws()\n",
    "\n",
    "# Count the occurrences of each final number and find the top 10 most common\n",
    "most_common_final_numbers = Counter(final_numbers).most_common(10)\n",
    "\n",
    "# Display the top 10 most common final numbers\n",
    "print(\"Top 10 most common final numbers and their counts:\")\n",
    "for number, count in most_common_final_numbers:\n",
    "    print(f\"Number: {number}, Count: {count}\")\n"
   ]
  },
  {
   "cell_type": "markdown",
   "id": "472c532b",
   "metadata": {},
   "source": [
    "The code below runs 10,000 simulations of the problem and plots the result."
   ]
  },
  {
   "cell_type": "code",
   "execution_count": 11,
   "id": "411be4ec",
   "metadata": {
    "collapsed": true
   },
   "outputs": [
    {
     "data": {
      "image/png": "[encoded data removed]",
      "text/plain": [
       "<Figure size 720x432 with 1 Axes>"
      ]
     },
     "metadata": {},
     "output_type": "display_data"
    }
   ],
   "source": [
    "def simulate_paper_draws_plot(total_pieces=2024, simulations=10000):\n",
    "    final_numbers = []  # List to store the final number of each simulation\n",
    "    \n",
    "    for _ in range(simulations):\n",
    "        # Initialise the hat with numbers from 1 to total_pieces\n",
    "        hat = list(range(1, total_pieces + 1))\n",
    "        \n",
    "        # Repeat the process until only one piece remains\n",
    "        while len(hat) > 1:\n",
    "            # Randomly select two pieces\n",
    "            draw = random.sample(hat, 2)\n",
    "            # Calculate the difference and remove the drawn pieces\n",
    "            hat.remove(draw[0])\n",
    "            hat.remove(draw[1])\n",
    "            # Add the difference back to the hat\n",
    "            hat.append(abs(draw[0] - draw[1]))\n",
    "        \n",
    "        # Add the final number to the list\n",
    "        final_numbers.append(hat[0])\n",
    "    \n",
    "    return final_numbers\n",
    "\n",
    "# Run 10,000 simulation and collect final numbers\n",
    "final_numbers = simulate_paper_draws_plot(simulations=10000) \n",
    "\n",
    "# Plot the distribution of final numbers using seaborn\n",
    "sns.set(style=\"darkgrid\")\n",
    "plt.figure(figsize=(10, 6))\n",
    "sns.histplot(final_numbers, bins=50, kde=True, color=\"skyblue\")\n",
    "plt.title('Distribution of Final Numbers from 10000 Simulations')\n",
    "plt.xlabel('Final Number')\n",
    "plt.ylabel('Frequency')\n",
    "plt.show()\n",
    "\n"
   ]
  },
  {
   "cell_type": "markdown",
   "id": "a127d6c0",
   "metadata": {},
   "source": [
    "The code below runs 50,000 simulations of the original problem and returns the largest final number produced by the simulations."
   ]
  },
  {
   "cell_type": "code",
   "execution_count": 12,
   "id": "b2dfce7a",
   "metadata": {
    "collapsed": true
   },
   "outputs": [
    {
     "name": "stdout",
     "output_type": "stream",
     "text": [
      "The largest final number produced by the 50,000 simulations is: 1936\n"
     ]
    }
   ],
   "source": [
    "def simulate_paper_draws_largest_final_number(total_pieces=2024, simulations=50000):\n",
    "    largest_final_number = 0  # Initialize the largest final number tracker\n",
    "    \n",
    "    for _ in range(simulations):\n",
    "        # Initialize the hat with numbers from 1 to total_pieces\n",
    "        hat = list(range(1, total_pieces + 1))\n",
    "        \n",
    "        # Repeat the process until only one piece remains\n",
    "        while len(hat) > 1:\n",
    "            # Randomly select two pieces\n",
    "            draw = random.sample(hat, 2)\n",
    "            # Calculate the difference and remove the drawn pieces\n",
    "            hat.remove(draw[0])\n",
    "            hat.remove(draw[1])\n",
    "            # Add the difference back to the hat\n",
    "            hat.append(abs(draw[0] - draw[1]))\n",
    "        \n",
    "        # Update the largest final number if the current final number is larger\n",
    "        final_number = hat[0]\n",
    "        if final_number > largest_final_number:\n",
    "            largest_final_number = final_number\n",
    "    \n",
    "    return largest_final_number\n",
    "\n",
    "largest_final_number = simulate_paper_draws_largest_final_number()\n",
    "print(f\"The largest final number produced by the 50,000 simulations is: {largest_final_number}\")\n",
    "\n",
    "\n"
   ]
  },
  {
   "cell_type": "markdown",
   "id": "0487c058",
   "metadata": {},
   "source": [
    "The code below runs 50,000 simulations on the numbers 1 through 2023 to determine whether 0 ever occurs as the final value."
   ]
  },
  {
   "cell_type": "code",
   "execution_count": 13,
   "id": "4fa69d0e",
   "metadata": {},
   "outputs": [
    {
     "name": "stdout",
     "output_type": "stream",
     "text": [
      "Yes\n"
     ]
    }
   ],
   "source": [
    "def simulate_for_zero(total_pieces=2023, simulations=50000):\n",
    "    for simulation in range(simulations):\n",
    "        # Initialise the hat with numbers from 1 to total_pieces\n",
    "        hat = list(range(1, total_pieces + 1))\n",
    "        \n",
    "        # Repeat the process until only one piece remains\n",
    "        while len(hat) > 1:\n",
    "            # Randomly select two pieces\n",
    "            draw = random.sample(hat, 2)\n",
    "            # Calculate the difference and remove the drawn pieces\n",
    "            hat.remove(draw[0])\n",
    "            hat.remove(draw[1])\n",
    "            # Add the difference back to the hat\n",
    "            difference = abs(draw[0] - draw[1])\n",
    "            hat.append(difference)\n",
    "            \n",
    "            # Check if 0 is the final number\n",
    "            if len(hat) == 1 and hat[0] == 0:\n",
    "                print('Yes')  # 0 appears as the final number\n",
    "                return  # Stop the simulation as soon as 0 is found\n",
    "        \n",
    "    # If the loop completes without finding a 0\n",
    "    print('No')  # 0 never appears as the final number\n",
    "\n",
    "\n",
    "simulate_for_zero()\n"
   ]
  },
  {
   "cell_type": "markdown",
   "id": "cdea26f7",
   "metadata": {},
   "source": [
    "The code below plots final value distributions for three different conditions on the original problem."
   ]
  },
  {
   "cell_type": "code",
   "execution_count": 15,
   "id": "bfcfd07c",
   "metadata": {
    "collapsed": true
   },
   "outputs": [
    {
     "data": {
      "image/png": "[encoded data removed]",
      "text/plain": [
       "<Figure size 1296x432 with 3 Axes>"
      ]
     },
     "metadata": {},
     "output_type": "display_data"
    }
   ],
   "source": [
    "def simulate_modified_paper_draws(total_pieces, simulations, first_draw):\n",
    "    final_numbers = []  # List to store the final number of each simulation\n",
    "    \n",
    "    for _ in range(simulations):\n",
    "        # Initialize the hat with numbers from 1 to total_pieces\n",
    "        hat = list(range(1, total_pieces + 1))\n",
    "        \n",
    "        # Perform the first draw based on the condition\n",
    "        hat.remove(first_draw[0])\n",
    "        hat.remove(first_draw[1])\n",
    "        difference = abs(first_draw[0] - first_draw[1])\n",
    "        hat.append(difference)\n",
    "        \n",
    "        # Repeat the process until only one piece remains\n",
    "        while len(hat) > 1:\n",
    "            # Randomly select two pieces\n",
    "            draw = random.sample(hat, 2)\n",
    "            # Calculate the difference and remove the drawn pieces\n",
    "            hat.remove(draw[0])\n",
    "            hat.remove(draw[1])\n",
    "            # Add the difference back to the hat\n",
    "            hat.append(abs(draw[0] - draw[1]))\n",
    "        \n",
    "        # Add the final number to the list\n",
    "        final_numbers.append(hat[0])\n",
    "    \n",
    "    return final_numbers\n",
    "\n",
    "# Number of simulations\n",
    "simulations = 5000\n",
    "\n",
    "# Run simulations for each condition\n",
    "condition1 = simulate_modified_paper_draws(2024, simulations, (1, 2))\n",
    "condition2 = simulate_modified_paper_draws(2024, simulations, (1012, 1013))\n",
    "condition3 = simulate_modified_paper_draws(2024, simulations, (1, 2024))\n",
    "\n",
    "# Plotting\n",
    "fig, axs = plt.subplots(1, 3, figsize=(18, 6), sharey=True)\n",
    "bins = np.linspace(-0.5, 2024.5, 2026, endpoint=True)\n",
    "\n",
    "axs[0].hist(condition1, bins, density=True)\n",
    "axs[0].set_title('First Draw: 1 and 2')\n",
    "axs[0].set_xlabel('Final Number')\n",
    "axs[0].set_ylabel('Probability')\n",
    "\n",
    "axs[1].hist(condition2, bins, density=True)\n",
    "axs[1].set_title('First Draw: 1012 and 1013')\n",
    "axs[1].set_xlabel('Final Number')\n",
    "\n",
    "axs[2].hist(condition3, bins, density=True)\n",
    "axs[2].set_title('First Draw: 1 and 2024')\n",
    "axs[2].set_xlabel('Final Number')\n",
    "\n",
    "plt.suptitle('Probability')\n",
    "plt.savefig(\"2024_numbers_in_a_hat_problem_histogram_comparison.png\")\n",
    "plt.show()\n"
   ]
  },
  {
   "cell_type": "code",
   "execution_count": null,
   "id": "601dc384",
   "metadata": {},
   "outputs": [],
   "source": []
  }
 ],
 "metadata": {
  "kernelspec": {
   "display_name": "Python 3 (ipykernel)",
   "language": "python",
   "name": "python3"
  },
  "language_info": {
   "codemirror_mode": {
    "name": "ipython",
    "version": 3
   },
   "file_extension": ".py",
   "mimetype": "text/x-python",
   "name": "python",
   "nbconvert_exporter": "python",
   "pygments_lexer": "ipython3",
   "version": "3.9.7"
  }
 },
 "nbformat": 4,
 "nbformat_minor": 5
}
